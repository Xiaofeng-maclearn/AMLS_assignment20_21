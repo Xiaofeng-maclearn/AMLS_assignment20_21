{
 "cells": [
  {
   "cell_type": "markdown",
   "metadata": {},
   "source": [
    "## Testing of K-Nearest Neighbors on Task B1"
   ]
  },
  {
   "cell_type": "code",
   "execution_count": 1,
   "metadata": {},
   "outputs": [],
   "source": [
    "# Import libraries\n",
    "import cv2\n",
    "import numpy as np\n",
    "import pandas as pd\n",
    "import matplotlib.pyplot as plt\n",
    "import time\n",
    "from sklearn.neighbors import KNeighborsClassifier\n",
    "from sklearn.model_selection import train_test_split\n",
    "from sklearn.metrics import accuracy_score\n",
    "\n",
    "#Load one image and its size will be used later\n",
    "img = cv2.imread('../Datasets/cartoon_set/img/0.png',cv2.IMREAD_GRAYSCALE)"
   ]
  },
  {
   "cell_type": "code",
   "execution_count": 9,
   "metadata": {},
   "outputs": [],
   "source": [
    "#Read the csv. file\n",
    "df = pd.read_csv('../Datasets/cartoon_set/labels.csv',sep='\\t')\n",
    "#In this task, only the 'face_shape' column is useful\n",
    "y = np.array(df['face_shape'])[:1000]"
   ]
  },
  {
   "cell_type": "code",
   "execution_count": 7,
   "metadata": {},
   "outputs": [],
   "source": [
    "#Initialization of sample matrix X\n",
    "X = np.zeros((1000,img.size//16))\n",
    "#Read each image in the folder, crop out 1/16 of the image with left ear, and save as a row of X\n",
    "for i in range(1000):\n",
    "    img = cv2.imread('../Datasets/cartoon_set/img/{}.png'.format(i),cv2.IMREAD_GRAYSCALE)\n",
    "    img_compressed1 = img[img.shape[0]//2:3*img.shape[0]//4,img.shape[1]//4:img.shape[1]//2] #Cropping process\n",
    "    X[i,:] = img_compressed1.reshape(1,img_compressed1.size)"
   ]
  },
  {
   "cell_type": "code",
   "execution_count": 10,
   "metadata": {},
   "outputs": [],
   "source": [
    "#Training-validation split in a ratio 3:1\n",
    "x_train, x_test, y_train, y_test = train_test_split(X, y,random_state=0)"
   ]
  },
  {
   "cell_type": "code",
   "execution_count": 11,
   "metadata": {},
   "outputs": [
    {
     "name": "stdout",
     "output_type": "stream",
     "text": [
      "finish training! total running time: 109.14022731781006s\n"
     ]
    }
   ],
   "source": [
    "#Define a KNN classifier which trains the model based on training set and gives \n",
    "#a prediction on the test set\n",
    "def KNNClassifier(X_train, y_train, X_test,k):\n",
    "\n",
    "    #Create KNN object with a K coefficient\n",
    "    neigh = KNeighborsClassifier(n_neighbors=k)\n",
    "    neigh.fit(X_train, y_train) # Fit KNN model\n",
    "\n",
    "    #Make a prediction with the trained model\n",
    "    Y_pred = neigh.predict(X_test)\n",
    "    return Y_pred\n",
    "\n",
    "#Timer of the training process\n",
    "time_start = time.time()\n",
    "#Initialization of accuracy list\n",
    "accuracy = np.zeros(20)\n",
    "#Validation process of K-coefficient\n",
    "for i in range (20):\n",
    "    # Make a prediction with the gived K\n",
    "    Y_pred=KNNClassifier(x_train, y_train, x_test,i+1)\n",
    "    # Calculate the validation accuracy\n",
    "    score=accuracy_score(y_test,Y_pred)\n",
    "    # Store the result\n",
    "    accuracy[i] = score\n",
    "\n",
    "time_end = time.time()\n",
    "running_time = time_end-time_start\n",
    "print(f'finish training! total running time: {running_time}s')"
   ]
  },
  {
   "cell_type": "code",
   "execution_count": 12,
   "metadata": {},
   "outputs": [
    {
     "data": {
      "image/png": "[encoded data removed]",
      "text/plain": [
       "<Figure size 432x288 with 1 Axes>"
      ]
     },
     "metadata": {
      "needs_background": "light"
     },
     "output_type": "display_data"
    }
   ],
   "source": [
    "#Plot the validation curve with accuracy list against K-coefficient\n",
    "plt.plot(np.linspace(1,20,20),accuracy)\n",
    "plt.title('KNN validation curve')\n",
    "plt.xlabel('Number of neighbours')\n",
    "plt.ylabel('accuracy')\n",
    "\n",
    "plt.show()"
   ]
  },
  {
   "cell_type": "code",
   "execution_count": null,
   "metadata": {},
   "outputs": [],
   "source": []
  }
 ],
 "metadata": {
  "kernelspec": {
   "display_name": "Python 3",
   "language": "python",
   "name": "python3"
  },
  "language_info": {
   "codemirror_mode": {
    "name": "ipython",
    "version": 3
   },
   "file_extension": ".py",
   "mimetype": "text/x-python",
   "name": "python",
   "nbconvert_exporter": "python",
   "pygments_lexer": "ipython3",
   "version": "3.6.12"
  }
 },
 "nbformat": 4,
 "nbformat_minor": 4
}
