{
 "cells": [
  {
   "cell_type": "markdown",
   "metadata": {},
   "source": [
    "## Testing of Logistic Regression on Task B1"
   ]
  },
  {
   "cell_type": "code",
   "execution_count": 5,
   "metadata": {},
   "outputs": [],
   "source": [
    "# Import libraries\n",
    "import cv2\n",
    "import numpy as np\n",
    "import pandas as pd\n",
    "import matplotlib.pyplot as plt\n",
    "import time\n",
    "from sklearn.model_selection import train_test_split\n",
    "from sklearn.metrics import accuracy_score\n",
    "from sklearn.linear_model import LogisticRegression\n",
    "\n",
    "#Load one image and its size will be used later\n",
    "img = cv2.imread('../Datasets/cartoon_set/img/0.png',cv2.IMREAD_GRAYSCALE)"
   ]
  },
  {
   "cell_type": "code",
   "execution_count": 6,
   "metadata": {},
   "outputs": [],
   "source": [
    "#Read the csv. file\n",
    "df = pd.read_csv('../Datasets/cartoon_set/labels.csv',sep='\\t')\n",
    "#In this task, only the 'face_shape' column is useful\n",
    "y = np.array(df['face_shape'])[:1000]"
   ]
  },
  {
   "cell_type": "code",
   "execution_count": 7,
   "metadata": {},
   "outputs": [],
   "source": [
    "#Initialization of sample matrix X\n",
    "X = np.zeros((10000,img.size//16))\n",
    "\n",
    "# A abandoned way to crop and slice the image\n",
    "#for i in range(10000):\n",
    "#    img = cv2.imread('../Datasets/cartoon_set/img/{}.png'.format(i),cv2.IMREAD_GRAYSCALE)\n",
    "#    img_compressed1 = img[img.shape[0]//2:,img.shape[1]//4:3*img.shape[1]//4]\n",
    "#    img_Rcompressed = img_compressed1[np.arange(1,img_compressed1.shape[0]+1,2)]\n",
    "#    img_compressed2 = img_Rcompressed[:,np.arange(1,img_compressed1.shape[1]+1,2)]\n",
    "#    X[i,:] = img_compressed2.reshape(1,img_compressed2.size)\n",
    "#   \n",
    "#    X = np.zeros((10000,img.size//16))\n",
    "    \n",
    "#Read each image in the folder, crop out 1/16 of the image with left ear, and save as a row of X\n",
    "for i in range(1000):\n",
    "    img = cv2.imread('../Datasets/cartoon_set/img/{}.png'.format(i),cv2.IMREAD_GRAYSCALE)\n",
    "    img_compressed1 = img[img.shape[0]//2:3*img.shape[0]//4,img.shape[1]//4:img.shape[1]//2] #Cropping process\n",
    "    X[i,:] = img_compressed1.reshape(1,img_compressed1.size)"
   ]
  },
  {
   "cell_type": "code",
   "execution_count": 8,
   "metadata": {},
   "outputs": [],
   "source": [
    "#Training-validation split in a ratio 3:1\n",
    "x_train, x_test, y_train, y_test = train_test_split(X, y,random_state=0)"
   ]
  },
  {
   "cell_type": "code",
   "execution_count": 9,
   "metadata": {},
   "outputs": [],
   "source": [
    "#Define a Logistic Regression classifier which trains the model based on training set as well as maximal iterations\n",
    "#and gives a prediction on the test set\n",
    "def logRegrPredict(x_train, y_train,xtest, max_iter):\n",
    "    # Create a Logistic Regression Model\n",
    "    logreg = LogisticRegression(solver='lbfgs',max_iter=max_iter)\n",
    "    # Fit the model\n",
    "    logreg.fit(x_train, y_train)\n",
    "    # Make a prediction\n",
    "    y_pred= logreg.predict(xtest)\n",
    "    return y_pred"
   ]
  },
  {
   "cell_type": "code",
   "execution_count": null,
   "metadata": {},
   "outputs": [],
   "source": [
    "# Timer of training process\n",
    "time_start = time.time()\n",
    "\n",
    "#Initialization of accuracy list\n",
    "accuracy = []\n",
    "\n",
    "#Validation process of iterations\n",
    "for i in range(10):\n",
    "    # Make a prediction for every 100 iterations\n",
    "    y_pred = logRegrPredict(x_train, y_train,x_test, (i+1)*100)\n",
    "    # Calculate and store the validation accuracy\n",
    "    accuracy.append(accuracy_score(y_test,y_pred))\n",
    "\n",
    "time_end = time.time()\n",
    "running_time = time_end-time_start\n",
    "print(f'finish training! total running time: {running_time}s')"
   ]
  },
  {
   "cell_type": "code",
   "execution_count": 16,
   "metadata": {},
   "outputs": [
    {
     "data": {
      "image/png": "[encoded data removed]",
      "text/plain": [
       "<Figure size 432x288 with 1 Axes>"
      ]
     },
     "metadata": {
      "needs_background": "light"
     },
     "output_type": "display_data"
    }
   ],
   "source": [
    "#Plot the learning curve\n",
    "plt.title('Learning curves of Logistic regression')\n",
    "plt.plot(np.linspace(100,1000,10),accuracy)\n",
    "plt.xlabel('Number of cycles')\n",
    "plt.ylabel('Accuracy')\n",
    "plt.show()"
   ]
  },
  {
   "cell_type": "code",
   "execution_count": 10,
   "metadata": {},
   "outputs": [
    {
     "name": "stdout",
     "output_type": "stream",
     "text": [
      "finish training! total running time: 102.53880786895752s\n"
     ]
    }
   ],
   "source": [
    "# Timer for training process with 500 iterations\n",
    "time_start = time.time()\n",
    "\n",
    "y_pred = logRegrPredict(x_train, y_train,x_test, 500)\n",
    "\n",
    "time_end = time.time()\n",
    "running_time = time_end-time_start\n",
    "print(f'finish training! total running time: {running_time}s')"
   ]
  },
  {
   "cell_type": "code",
   "execution_count": null,
   "metadata": {},
   "outputs": [],
   "source": []
  }
 ],
 "metadata": {
  "kernelspec": {
   "display_name": "Python 3",
   "language": "python",
   "name": "python3"
  },
  "language_info": {
   "codemirror_mode": {
    "name": "ipython",
    "version": 3
   },
   "file_extension": ".py",
   "mimetype": "text/x-python",
   "name": "python",
   "nbconvert_exporter": "python",
   "pygments_lexer": "ipython3",
   "version": "3.6.12"
  }
 },
 "nbformat": 4,
 "nbformat_minor": 4
}
