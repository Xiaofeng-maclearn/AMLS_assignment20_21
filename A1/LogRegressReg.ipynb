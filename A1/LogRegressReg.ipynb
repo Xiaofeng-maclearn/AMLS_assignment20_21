{
 "cells": [
  {
   "cell_type": "markdown",
   "metadata": {},
   "source": [
    "## Testing of Logistic Regression with Regularization on Task A1"
   ]
  },
  {
   "cell_type": "code",
   "execution_count": null,
   "metadata": {},
   "outputs": [],
   "source": [
    "#Import libraries\n",
    "import cv2\n",
    "import numpy as np\n",
    "import pandas as pd\n",
    "import matplotlib.pyplot as plt\n",
    "import time\n",
    "from sklearn.model_selection import train_test_split\n",
    "from sklearn.metrics import accuracy_score\n",
    "\n",
    "#Load one image and its size will be used later\n",
    "img = cv2.imread('../Datasets/celeba/img/0.jpg',cv2.IMREAD_GRAYSCALE)"
   ]
  },
  {
   "cell_type": "code",
   "execution_count": 2,
   "metadata": {},
   "outputs": [],
   "source": [
    "#Read the csv. file\n",
    "df = pd.read_csv('../Datasets/celeba/labels.csv',sep='\\t')\n",
    "#In this task, only the 'gender' column is useful\n",
    "y = np.array(df['gender'])"
   ]
  },
  {
   "cell_type": "code",
   "execution_count": 3,
   "metadata": {},
   "outputs": [],
   "source": [
    "#Initialization of sample matrix X\n",
    "X = np.zeros((5000,img.size//4))\n",
    "#Read and slice each image, then save it as a row of X\n",
    "for i in range(5000):\n",
    "    img = cv2.imread('../Datasets/celeba/img/{}.jpg'.format(i),cv2.IMREAD_GRAYSCALE)\n",
    "    img_Rcompressed = img[np.arange(1,img.shape[0]+1,2)] #Delete one row for each two\n",
    "    img_compressed = img_Rcompressed[:,np.arange(1,img.shape[1]+1,2)] #Delete one column for each two\n",
    "    X[i,:] = img_compressed.reshape(1,img_compressed.size)"
   ]
  },
  {
   "cell_type": "code",
   "execution_count": 4,
   "metadata": {},
   "outputs": [],
   "source": [
    "#Training-validation split in a ratio 3:1\n",
    "x_train, x_test, y_train, y_test = train_test_split(X, y,random_state=0)"
   ]
  },
  {
   "cell_type": "code",
   "execution_count": 5,
   "metadata": {},
   "outputs": [],
   "source": [
    "#Definition of sigmoid function\n",
    "def sigmoid(z):\n",
    "    return 1. / (1. + np.exp(-z))"
   ]
  },
  {
   "cell_type": "code",
   "execution_count": 6,
   "metadata": {},
   "outputs": [],
   "source": [
    "#Definition of prediction function\n",
    "def logRegrNEWRegrPredict(xTest, theta):\n",
    "    #Intercept a column of ones before input matrix xTest \n",
    "    intercept = np.ones((xTest.shape[0], 1))\n",
    "    xTest = np.concatenate((intercept, xTest), axis=1)\n",
    "    #Calculate the probability by sigmoid function \n",
    "    y_pred1 = sigmoid(np.dot(xTest, theta))\n",
    "    #Instead of {0,1}, the output values of y are {-1,1}\n",
    "    y_pred1[y_pred1 >= 0.5]=1\n",
    "    y_pred1[y_pred1 < 0.5]=-1\n",
    "    #Return prediction\n",
    "    return y_pred1"
   ]
  },
  {
   "cell_type": "code",
   "execution_count": 16,
   "metadata": {},
   "outputs": [],
   "source": [
    "#Start function of training process\n",
    "def start(xTrain, yTrain, lamb):\n",
    "    #Intercept a column of ones before input matrix xTrain\n",
    "    intercept = np.ones((xTrain.shape[0], 1))\n",
    "    xTrain = np.concatenate((intercept, xTrain), axis=1)\n",
    "    \n",
    "    n = xTrain.shape[0] #Size of training set\n",
    "\n",
    "    yTrain[yTrain < 1] = 0 #Change every value -1 into 0\n",
    "    \n",
    "    #Initializations of feature vecctor\n",
    "    theta = np.zeros(xTrain.shape[1])\n",
    "    \n",
    "    #Initial guess of step parameter\n",
    "    lr = 0.0001\n",
    "    \n",
    "    #Variables used to store the maximal accuracy and its coresponding faeture vector \n",
    "    #of previous epoch and the feature vector of maximal validation accuracy\n",
    "    prev_acc = 0\n",
    "    max_theta = np.zeros(xTrain.shape[1])\n",
    "    prev_theta = np.zeros(xTrain.shape[1])\n",
    "    \n",
    "    #Gradient desecnt with early stopping\n",
    "    while True:\n",
    "        max_acc = 0 #Initialization of maximal accuracy in this epoch\n",
    "        for maxIt in range(1000): #1,000 iterations in each epoch\n",
    "            # Calculation of gradient\n",
    "            z = np.dot(xTrain, theta)\n",
    "            h = sigmoid(z)\n",
    "            gradient = np.dot(xTrain.T, np.add(h, -yTrain))/n\n",
    "            \n",
    "            #The new feature vector, with regularization here\n",
    "            theta = (1-lamb)*theta - lr*gradient\n",
    "            \n",
    "            #Prediction made by new features\n",
    "            y_pred = logRegrNEWRegrPredict(x_test,theta)\n",
    "            \n",
    "            #The accuracy of this prediction\n",
    "            acc = accuracy_score(y_pred, y_test)\n",
    "            \n",
    "            #Renew maximal accuracy and its feature vector\n",
    "            if acc > max_acc:\n",
    "                max_acc = acc\n",
    "                max_theta = theta\n",
    "        #Break when the maximal accuracy goes down\n",
    "        if prev_acc >= max_acc:\n",
    "            break\n",
    "        #Otherwise record as previous accuracy and feature vector\n",
    "        prev_acc = max_acc\n",
    "        prev_theta = max_theta\n",
    "    #We want the previous theta, i.e. the maximal theta\n",
    "    return prev_theta"
   ]
  },
  {
   "cell_type": "code",
   "execution_count": 25,
   "metadata": {},
   "outputs": [
    {
     "name": "stderr",
     "output_type": "stream",
     "text": [
      "E:\\Anaconda\\envs\\lab\\lib\\site-packages\\ipykernel_launcher.py:2: RuntimeWarning: overflow encountered in exp\n",
      "  \n"
     ]
    },
    {
     "name": "stdout",
     "output_type": "stream",
     "text": [
      "finish cycle 999\n",
      "finish cycle 999\n",
      "finish cycle 999\n",
      "finish cycle 999\n",
      "finish cycle 999\n",
      "finish lamb 0\n",
      "finish cycle 999\n",
      "finish cycle 999\n",
      "finish cycle 999\n",
      "finish cycle 999\n",
      "finish cycle 999\n",
      "finish cycle 999\n",
      "finish lamb 1\n",
      "finish cycle 999\n",
      "finish cycle 999\n",
      "finish cycle 999\n",
      "finish lamb 2\n",
      "finish cycle 999\n",
      "finish cycle 999\n",
      "finish cycle 999\n",
      "finish lamb 3\n",
      "finish cycle 999\n",
      "finish cycle 999\n",
      "finish cycle 999\n",
      "finish lamb 4\n"
     ]
    },
    {
     "data": {
      "image/png": "[encoded data removed]",
      "text/plain": [
       "<Figure size 432x360 with 1 Axes>"
      ]
     },
     "metadata": {
      "needs_background": "light"
     },
     "output_type": "display_data"
    },
    {
     "name": "stdout",
     "output_type": "stream",
     "text": [
      "finish training! total running time: 2555.3350796699524s\n"
     ]
    }
   ],
   "source": [
    "#List of possible lambda(Regularization parameter)\n",
    "lamb_list = [0.001,0.0005,0.0001,0.00005,0.00001]\n",
    "#Initialization of theta received after each training process\n",
    "theta2 = np.zeros(x_train.shape[1])\n",
    "#Initialization of accuracy vector\n",
    "acc = []\n",
    "\n",
    "#Timer of training processes\n",
    "time_start = time.time()\n",
    "for i in range(5):\n",
    "    #Theta received after the training process with every lambda given\n",
    "    theta2 = start(x_train, y_train,lamb_list[i])\n",
    "    #Record this validation accuracy\n",
    "    acc_lamb = accuracy_score(logRegrNEWRegrPredict(x_test,theta2),y_test)\n",
    "    acc.append(acc_lamb)\n",
    "    print(f'finish lamb {i}')\n",
    "\n",
    "\n",
    "\n",
    "time_end = time.time()\n",
    "running_time = time_end-time_start\n",
    "print(f'finish training! total running time: {running_time}s')"
   ]
  },
  {
   "cell_type": "code",
   "execution_count": 26,
   "metadata": {},
   "outputs": [
    {
     "data": {
      "image/png": "[encoded data removed]",
      "text/plain": [
       "<Figure size 432x360 with 1 Axes>"
      ]
     },
     "metadata": {
      "needs_background": "light"
     },
     "output_type": "display_data"
    }
   ],
   "source": [
    "#Paint the validation accuracy of each lambda as a bar chart\n",
    "#A function defined to label the bars\n",
    "def autolabel(rects):\n",
    "\n",
    "    for rect in rects:\n",
    "\n",
    "        height = rect.get_height()\n",
    "\n",
    "        plt.text(rect.get_x(), 1.01*height, '%s' % float(height))\n",
    "        \n",
    "lamb_list = ['0.001','0.0005','0.0001','0.00005','0.00001']\n",
    "plt.figure(figsize=(6,5))\n",
    "bars = plt.bar(lamb_list, acc)\n",
    "plt.xlabel('lambda')\n",
    "plt.ylabel('Accuracy')\n",
    "\n",
    "autolabel(bars)\n",
    "\n",
    "plt.show()\n"
   ]
  }
 ],
 "metadata": {
  "kernelspec": {
   "display_name": "Python 3",
   "language": "python",
   "name": "python3"
  },
  "language_info": {
   "codemirror_mode": {
    "name": "ipython",
    "version": 3
   },
   "file_extension": ".py",
   "mimetype": "text/x-python",
   "name": "python",
   "nbconvert_exporter": "python",
   "pygments_lexer": "ipython3",
   "version": "3.6.12"
  }
 },
 "nbformat": 4,
 "nbformat_minor": 4
}
