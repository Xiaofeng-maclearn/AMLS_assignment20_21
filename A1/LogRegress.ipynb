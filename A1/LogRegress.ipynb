{
 "cells": [
  {
   "cell_type": "markdown",
   "metadata": {},
   "source": [
    "## Testing of Logistic Regression on Task A1"
   ]
  },
  {
   "cell_type": "code",
   "execution_count": null,
   "metadata": {},
   "outputs": [],
   "source": [
    "#Import libraries\n",
    "import cv2\n",
    "import numpy as np\n",
    "import pandas as pd\n",
    "import matplotlib.pyplot as plt\n",
    "import time\n",
    "from sklearn.model_selection import train_test_split\n",
    "from sklearn.metrics import accuracy_score\n",
    "\n",
    "#Load one image and its size will be used later\n",
    "img = cv2.imread('../Datasets/celeba/img/0.jpg',cv2.IMREAD_GRAYSCALE)"
   ]
  },
  {
   "cell_type": "code",
   "execution_count": 2,
   "metadata": {},
   "outputs": [],
   "source": [
    "#Read the csv. file\n",
    "df = pd.read_csv('../Datasets/celeba/labels.csv',sep='\\t')\n",
    "#In this task, only the 'gender' column is useful\n",
    "y = np.array(df['gender'])"
   ]
  },
  {
   "cell_type": "code",
   "execution_count": 3,
   "metadata": {},
   "outputs": [],
   "source": [
    "#Initialization of sample matrix X\n",
    "X = np.zeros((5000,img.size//4))\n",
    "#Read and slice each image, then save it as a row of X\n",
    "for i in range(5000):\n",
    "    img = cv2.imread('../Datasets/celeba/img/{}.jpg'.format(i),cv2.IMREAD_GRAYSCALE)\n",
    "    img_Rcompressed = img[np.arange(1,img.shape[0]+1,2)] #Delete one row for each two\n",
    "    img_compressed = img_Rcompressed[:,np.arange(1,img.shape[1]+1,2)] #Delete one column for each two\n",
    "    X[i,:] = img_compressed.reshape(1,img_compressed.size)\n",
    "\n",
    "#A discarded code of further slicing which leaves one pixel for every 3*3 block    \n",
    "#X = np.zeros((5000,2376))\n",
    "#for i in range(5000):\n",
    "#    img = cv2.imread('../Datasets/celeba/img/{}.jpg'.format(i),cv2.IMREAD_GRAYSCALE)\n",
    "#    img_Rcompressed = img[np.arange(3,img.shape[0]+1,4)]\n",
    "#    img_compressed = img_Rcompressed[:,np.arange(3,img.shape[1]+1,4)]\n",
    "#    X[i,:] = img_compressed.reshape(1,img_compressed.size)"
   ]
  },
  {
   "cell_type": "code",
   "execution_count": 4,
   "metadata": {},
   "outputs": [],
   "source": [
    "#Training-validation split in a ratio 3:1\n",
    "x_train, x_test, y_train, y_test = train_test_split(X, y,random_state=0)"
   ]
  },
  {
   "cell_type": "code",
   "execution_count": 5,
   "metadata": {},
   "outputs": [],
   "source": [
    "#Definition of sigmoid function\n",
    "def sigmoid(z):\n",
    "    return 1. / (1. + np.exp(-z))"
   ]
  },
  {
   "cell_type": "code",
   "execution_count": 8,
   "metadata": {},
   "outputs": [],
   "source": [
    "#Definition of prediction function\n",
    "def logRegrNEWRegrPredict(xTest, theta):\n",
    "    #Intercept a column of ones before input matrix xTest \n",
    "    intercept = np.ones((xTest.shape[0], 1))\n",
    "    xTest = np.concatenate((intercept, xTest), axis=1)\n",
    "    #Calculate the probability by sigmoid function \n",
    "    y_pred1 = sigmoid(np.dot(xTest, theta))\n",
    "    #Instead of {0,1}, the output values of y are {-1,1}\n",
    "    y_pred1[y_pred1 >= 0.5]=1\n",
    "    y_pred1[y_pred1 < 0.5]=-1\n",
    "    #Return prediction\n",
    "    return y_pred1"
   ]
  },
  {
   "cell_type": "code",
   "execution_count": 7,
   "metadata": {},
   "outputs": [
    {
     "name": "stderr",
     "output_type": "stream",
     "text": [
      "E:\\Anaconda\\envs\\lab\\lib\\site-packages\\ipykernel_launcher.py:2: RuntimeWarning: overflow encountered in exp\n",
      "  \n"
     ]
    },
    {
     "ename": "KeyboardInterrupt",
     "evalue": "",
     "output_type": "error",
     "traceback": [
      "\u001b[1;31m---------------------------------------------------------------------------\u001b[0m",
      "\u001b[1;31mKeyboardInterrupt\u001b[0m                         Traceback (most recent call last)",
      "\u001b[1;32m<ipython-input-7-e8fde23c72b3>\u001b[0m in \u001b[0;36m<module>\u001b[1;34m\u001b[0m\n\u001b[0;32m     19\u001b[0m \u001b[0mtime_start\u001b[0m \u001b[1;33m=\u001b[0m \u001b[0mtime\u001b[0m\u001b[1;33m.\u001b[0m\u001b[0mtime\u001b[0m\u001b[1;33m(\u001b[0m\u001b[1;33m)\u001b[0m\u001b[1;33m\u001b[0m\u001b[1;33m\u001b[0m\u001b[0m\n\u001b[0;32m     20\u001b[0m \u001b[1;33m\u001b[0m\u001b[0m\n\u001b[1;32m---> 21\u001b[1;33m \u001b[0maccuracy\u001b[0m \u001b[1;33m=\u001b[0m \u001b[0mstart\u001b[0m\u001b[1;33m(\u001b[0m\u001b[0mx_train\u001b[0m\u001b[1;33m,\u001b[0m \u001b[0my_train\u001b[0m\u001b[1;33m)\u001b[0m\u001b[1;33m\u001b[0m\u001b[1;33m\u001b[0m\u001b[0m\n\u001b[0m\u001b[0;32m     22\u001b[0m \u001b[1;33m\u001b[0m\u001b[0m\n\u001b[0;32m     23\u001b[0m \u001b[0mtime_end\u001b[0m \u001b[1;33m=\u001b[0m \u001b[0mtime\u001b[0m\u001b[1;33m.\u001b[0m\u001b[0mtime\u001b[0m\u001b[1;33m(\u001b[0m\u001b[1;33m)\u001b[0m\u001b[1;33m\u001b[0m\u001b[1;33m\u001b[0m\u001b[0m\n",
      "\u001b[1;32m<ipython-input-7-e8fde23c72b3>\u001b[0m in \u001b[0;36mstart\u001b[1;34m(xTrain, yTrain)\u001b[0m\n\u001b[0;32m     14\u001b[0m         \u001b[0mtheta\u001b[0m \u001b[1;33m=\u001b[0m \u001b[0mtheta\u001b[0m \u001b[1;33m-\u001b[0m \u001b[0mlr\u001b[0m\u001b[1;33m*\u001b[0m\u001b[0mgradient\u001b[0m\u001b[1;33m\u001b[0m\u001b[1;33m\u001b[0m\u001b[0m\n\u001b[0;32m     15\u001b[0m         \u001b[0my_pred\u001b[0m \u001b[1;33m=\u001b[0m \u001b[0mlogRegrNEWRegrPredict\u001b[0m\u001b[1;33m(\u001b[0m\u001b[0mx_test\u001b[0m\u001b[1;33m,\u001b[0m\u001b[0mtheta\u001b[0m\u001b[1;33m)\u001b[0m\u001b[1;33m\u001b[0m\u001b[1;33m\u001b[0m\u001b[0m\n\u001b[1;32m---> 16\u001b[1;33m         \u001b[0maccuracy\u001b[0m\u001b[1;33m[\u001b[0m\u001b[0mmaxIt\u001b[0m\u001b[1;33m]\u001b[0m \u001b[1;33m=\u001b[0m \u001b[0maccuracy_score\u001b[0m\u001b[1;33m(\u001b[0m\u001b[0my_pred\u001b[0m\u001b[1;33m,\u001b[0m \u001b[0my_test\u001b[0m\u001b[1;33m)\u001b[0m\u001b[1;33m\u001b[0m\u001b[1;33m\u001b[0m\u001b[0m\n\u001b[0m\u001b[0;32m     17\u001b[0m     \u001b[1;32mreturn\u001b[0m \u001b[0maccuracy\u001b[0m\u001b[1;33m\u001b[0m\u001b[1;33m\u001b[0m\u001b[0m\n\u001b[0;32m     18\u001b[0m \u001b[1;33m\u001b[0m\u001b[0m\n",
      "\u001b[1;31mKeyboardInterrupt\u001b[0m: "
     ]
    }
   ],
   "source": [
    "#Start function of training process\n",
    "def start(xTrain, yTrain):\n",
    "    #Intercept a column of ones before input matrix xTrain\n",
    "    intercept = np.ones((xTrain.shape[0], 1))\n",
    "    xTrain = np.concatenate((intercept, xTrain), axis=1)\n",
    "    \n",
    "    n = xTrain.shape[0] #Size of training set\n",
    "    \n",
    "    yTrain[yTrain < 1] = 0 #Change every value -1 into 0\n",
    "    \n",
    "    #Initializations of feature vecctor and accuracy vector used to paint learning curve later\n",
    "    theta = np.zeros(xTrain.shape[1])\n",
    "    accuracy = np.zeros(10000)\n",
    "    \n",
    "    #Initial guess of step parameter\n",
    "    lr = 0.0001\n",
    "    \n",
    "    #Process of gradient descent\n",
    "    for maxIt in range(10000): #10,000 iterations\n",
    "        #Calculation of gradient\n",
    "        z = np.dot(xTrain, theta)\n",
    "        h = sigmoid(z)\n",
    "        gradient = np.dot(xTrain.T, np.add(h, -yTrain))/n\n",
    "        \n",
    "        #The new feature vector\n",
    "        theta = theta - lr*gradient\n",
    "        \n",
    "        #Prediction made by new features\n",
    "        y_pred = logRegrNEWRegrPredict(x_test,theta)\n",
    "        \n",
    "        #The accuracy of this prediction\n",
    "        accuracy[maxIt] = accuracy_score(y_pred, y_test)\n",
    "    return accuracy\n",
    "\n",
    "#Timer of training process\n",
    "time_start = time.time()\n",
    "\n",
    "accuracy = start(x_train, y_train)\n",
    "\n",
    "time_end = time.time()\n",
    "running_time = time_end-time_start\n",
    "print(f'finish training! total running time: {running_time}s')"
   ]
  },
  {
   "cell_type": "code",
   "execution_count": null,
   "metadata": {},
   "outputs": [],
   "source": [
    "#Paint the learing curve with accuracy vector against number of iterations\n",
    "plt.title('Learning curves of Logistic regression')\n",
    "plt.xlabel('Number of cycles')\n",
    "plt.ylabel('Accuracy')\n",
    "plt.plot(np.linspace(1,10000,10000),accuracy)"
   ]
  },
  {
   "cell_type": "code",
   "execution_count": 1,
   "metadata": {},
   "outputs": [
    {
     "ename": "NameError",
     "evalue": "name 'time' is not defined",
     "output_type": "error",
     "traceback": [
      "\u001b[1;31m---------------------------------------------------------------------------\u001b[0m",
      "\u001b[1;31mNameError\u001b[0m                                 Traceback (most recent call last)",
      "\u001b[1;32m<ipython-input-1-15c3410247c5>\u001b[0m in \u001b[0;36m<module>\u001b[1;34m\u001b[0m\n\u001b[0;32m     43\u001b[0m     \u001b[1;32mreturn\u001b[0m \u001b[0maccuracy\u001b[0m\u001b[1;33m,\u001b[0m \u001b[0mprev_theta\u001b[0m\u001b[1;33m\u001b[0m\u001b[1;33m\u001b[0m\u001b[0m\n\u001b[0;32m     44\u001b[0m \u001b[1;33m\u001b[0m\u001b[0m\n\u001b[1;32m---> 45\u001b[1;33m \u001b[0mtime_start\u001b[0m \u001b[1;33m=\u001b[0m \u001b[0mtime\u001b[0m\u001b[1;33m.\u001b[0m\u001b[0mtime\u001b[0m\u001b[1;33m(\u001b[0m\u001b[1;33m)\u001b[0m\u001b[1;33m\u001b[0m\u001b[1;33m\u001b[0m\u001b[0m\n\u001b[0m\u001b[0;32m     46\u001b[0m \u001b[1;33m\u001b[0m\u001b[0m\n\u001b[0;32m     47\u001b[0m \u001b[1;33m(\u001b[0m\u001b[0maccuracy\u001b[0m\u001b[1;33m,\u001b[0m\u001b[0mtheta_index\u001b[0m\u001b[1;33m)\u001b[0m \u001b[1;33m=\u001b[0m \u001b[0mstart2\u001b[0m\u001b[1;33m(\u001b[0m\u001b[0mx_train\u001b[0m\u001b[1;33m,\u001b[0m \u001b[0my_train\u001b[0m\u001b[1;33m)\u001b[0m\u001b[1;33m\u001b[0m\u001b[1;33m\u001b[0m\u001b[0m\n",
      "\u001b[1;31mNameError\u001b[0m: name 'time' is not defined"
     ]
    }
   ],
   "source": [
    "#Start function of early stopping process\n",
    "def start2(xTrain, yTrain):\n",
    "    #Intercept a column of ones before input matrix xTrain\n",
    "    intercept = np.ones((xTrain.shape[0], 1))\n",
    "    xTrain = np.concatenate((intercept, xTrain), axis=1)\n",
    "    \n",
    "    n = xTrain.shape[0] #Size of training set\n",
    "    \n",
    "    yTrain[yTrain < 1] = 0 #Change every value -1 into 0\n",
    "    \n",
    "    #Initializations of feature vecctor and accuracy vector used to paint learning curve later\n",
    "    theta = np.zeros(xTrain.shape[1])\n",
    "    accuracy = []\n",
    "    \n",
    "    #Initial guess of step parameter\n",
    "    lr = 0.0001\n",
    "    \n",
    "    #Variables used to store the maximal accuracy of previous epoch and the feature vector \n",
    "    #of maximal validation accuracy\n",
    "    prev_acc = 0\n",
    "    max_theta = np.zeros(xTrain.shape[1])\n",
    "    \n",
    "    #Gradient desecnt with early stopping\n",
    "    while True:\n",
    "        max_acc = 0 #Initialization of maximal accuracy in this epoch\n",
    "        for maxIt in range(1000): #1,000 iterations in each epoch\n",
    "            # Calculation of gradient\n",
    "            z = np.dot(xTrain, theta)\n",
    "            h = sigmoid(z)\n",
    "            gradient = np.dot(xTrain.T, np.add(h, -yTrain))/n\n",
    "            \n",
    "            #The new feature vector\n",
    "            theta = theta - lr*gradient\n",
    "            \n",
    "            #Prediction made by new features\n",
    "            y_pred = logRegrNEWRegrPredict(x_test,theta)\n",
    "            \n",
    "            #The accuracy of this prediction\n",
    "            acc = accuracy_score(y_pred, y_test)\n",
    "            \n",
    "            #Renew maximal accuracy and its feature vector\n",
    "            if acc > max_acc:\n",
    "                max_acc=acc\n",
    "                max_theta = theta\n",
    "        #Record the maximal accuracy of this epoch\n",
    "        accuracy.append(max_acc)\n",
    "        #Break when the maximal accuracy goes down\n",
    "        if prev_acc > max_acc:\n",
    "            break\n",
    "        \n",
    "        #Otherwise record as previous accuracy\n",
    "        prev_acc = max_acc\n",
    "        \n",
    "    return accuracy\n",
    "\n",
    "#Timer of training process\n",
    "time_start = time.time()\n",
    "\n",
    "accuracy = start2(x_train, y_train)\n",
    "\n",
    "time_end = time.time()\n",
    "running_time = time_end-time_start\n",
    "\n",
    "print(f'finish training! total running time: {running_time}s')"
   ]
  },
  {
   "cell_type": "code",
   "execution_count": 10,
   "metadata": {},
   "outputs": [
    {
     "data": {
      "image/png": "[encoded data removed]",
      "text/plain": [
       "<Figure size 432x360 with 1 Axes>"
      ]
     },
     "metadata": {
      "needs_background": "light"
     },
     "output_type": "display_data"
    }
   ],
   "source": [
    "#Paint as bar chart\n",
    "#A function defined to label the bars\n",
    "def autolabel(rects):\n",
    "\n",
    "    for rect in rects:\n",
    "\n",
    "        height = rect.get_height()\n",
    "\n",
    "        plt.text(rect.get_x(), 1.01*height, '%s' % float(height))\n",
    "        \n",
    "labels = ['0~1000','1000~2000','2000~3000','3000~4000','4000~5000']\n",
    "\n",
    "plt.figure(figsize=(6,5))\n",
    "bars = plt.bar(labels, accuracy)\n",
    "plt.xlabel('Echo of cycles')\n",
    "plt.ylabel('Accuracy')\n",
    "\n",
    "autolabel(bars)\n",
    "\n",
    "plt.show()"
   ]
  },
  {
   "cell_type": "code",
   "execution_count": null,
   "metadata": {},
   "outputs": [],
   "source": []
  }
 ],
 "metadata": {
  "kernelspec": {
   "display_name": "Python 3",
   "language": "python",
   "name": "python3"
  },
  "language_info": {
   "codemirror_mode": {
    "name": "ipython",
    "version": 3
   },
   "file_extension": ".py",
   "mimetype": "text/x-python",
   "name": "python",
   "nbconvert_exporter": "python",
   "pygments_lexer": "ipython3",
   "version": "3.6.12"
  }
 },
 "nbformat": 4,
 "nbformat_minor": 4
}
