{
 "cells": [
  {
   "cell_type": "markdown",
   "metadata": {},
   "source": [
    "## Testing of Stochastic Logistic Regression on Task A1"
   ]
  },
  {
   "cell_type": "code",
   "execution_count": null,
   "metadata": {},
   "outputs": [],
   "source": [
    "#import libraries\n",
    "import cv2\n",
    "import numpy as np\n",
    "import pandas as pd\n",
    "import matplotlib.pyplot as plt\n",
    "import random\n",
    "import time\n",
    "from sklearn.model_selection import train_test_split\n",
    "from sklearn.metrics import accuracy_score\n",
    "\n",
    "#Load one image and its size will be used later\n",
    "img = cv2.imread('../Datasets/celeba/img/0.jpg',cv2.IMREAD_GRAYSCALE)"
   ]
  },
  {
   "cell_type": "code",
   "execution_count": 2,
   "metadata": {},
   "outputs": [],
   "source": [
    "#Read the csv. file\n",
    "df = pd.read_csv('../Datasets/celeba/labels.csv',sep='\\t')\n",
    "#In this task, only the 'gender' column is useful\n",
    "y = np.array(df['gender'])"
   ]
  },
  {
   "cell_type": "code",
   "execution_count": 18,
   "metadata": {},
   "outputs": [],
   "source": [
    "#A discarded code where no slicing is applied\n",
    "#X = np.zeros((5000,img.size))\n",
    "#for i in range(5000):\n",
    "#    img = cv2.imread('../Datasets/celeba/img/{}.jpg'.format(i),cv2.IMREAD_GRAYSCALE)\n",
    "#    X[i,:] = img.reshape(1,img.size)\n",
    "\n",
    "#Initialization of sample matrix X\n",
    "X = np.zeros((5000,img.size//4))\n",
    "#Read and slice each image, then save it as a row of X\n",
    "for i in range(5000):\n",
    "    img = cv2.imread('../Datasets/celeba/img/{}.jpg'.format(i),cv2.IMREAD_GRAYSCALE)\n",
    "    img_Rcompressed = img[np.arange(1,img.shape[0]+1,2)] #Delete one row for each two\n",
    "    img_compressed = img_Rcompressed[:,np.arange(1,img.shape[1]+1,2)] #Delete one column for each two\n",
    "    X[i,:] = img_compressed.reshape(1,img_compressed.size)"
   ]
  },
  {
   "cell_type": "code",
   "execution_count": 19,
   "metadata": {},
   "outputs": [],
   "source": [
    "#Training-validation split in a ratio 3:1\n",
    "x_train, x_test, y_train, y_test = train_test_split(X, y,random_state=0)"
   ]
  },
  {
   "cell_type": "code",
   "execution_count": 20,
   "metadata": {},
   "outputs": [],
   "source": [
    "#Definition of sigmoid function\n",
    "def sigmoid(z):\n",
    "    return 1. / (1. + np.exp(-z))"
   ]
  },
  {
   "cell_type": "code",
   "execution_count": 23,
   "metadata": {},
   "outputs": [
    {
     "name": "stderr",
     "output_type": "stream",
     "text": [
      "E:\\Anaconda\\envs\\lab\\lib\\site-packages\\ipykernel_launcher.py:2: RuntimeWarning: overflow encountered in exp\n",
      "  \n"
     ]
    },
    {
     "name": "stdout",
     "output_type": "stream",
     "text": [
      "finish training! total running time: 3016.856034755707s\n"
     ]
    }
   ],
   "source": [
    "#Definition of prediction function\n",
    "def logRegrNEWRegrPredict(xTest, theta):\n",
    "    #Intercept a column of ones before input matrix xTest \n",
    "    intercept = np.ones((xTest.shape[0], 1))\n",
    "    xTest = np.concatenate((intercept, xTest), axis=1)\n",
    "    #Calculate the probability by sigmoid function \n",
    "    y_pred1 = sigmoid(np.dot(xTest, theta))\n",
    "    #Instead of {0,1}, the output values of y are {-1,1}\n",
    "    y_pred1[y_pred1 >= 0.5]=1\n",
    "    y_pred1[y_pred1 < 0.5]=-1\n",
    "    #Return prediction\n",
    "    return y_pred1"
   ]
  },
  {
   "cell_type": "code",
   "execution_count": null,
   "metadata": {},
   "outputs": [],
   "source": [
    "#Start function of training process\n",
    "def start(xTrain, yTrain):\n",
    "    #Intercept a column of ones before input matrix xTrain\n",
    "    intercept = np.ones((xTrain.shape[0], 1))\n",
    "    xTrain = np.concatenate((intercept, xTrain), axis=1)\n",
    "    \n",
    "    yTrain[yTrain < 1] = 0 #Change every value -1 into 0\n",
    "    \n",
    "    #Initializations of feature vecctor and accuracy vector used to paint learning curve later\n",
    "    theta = np.zeros(xTrain.shape[1])\n",
    "    accuracy = np.zeros(50000)\n",
    "    \n",
    "    #Initial guess of step parameter\n",
    "    lr = 0.0001\n",
    "    \n",
    "    #Process of stochastic gradient descent\n",
    "    for maxIt in range(50000): #50,000 iterations\n",
    "        #Pick a random sample\n",
    "        j = random.randint(0,3749)\n",
    "        \n",
    "        #Calculation of gradient based on this sample\n",
    "        xj = xTrain[j,:]\n",
    "        z = np.dot(xj,theta)\n",
    "        h = sigmoid(z)\n",
    "        gradient = (h-yTrain[j])*xj.T\n",
    "        \n",
    "        #The new feature vector\n",
    "        theta = theta - lr*gradient\n",
    "        \n",
    "        #Prediction made by new features\n",
    "        y_pred = logRegrNEWRegrPredict(x_test,theta)\n",
    "        \n",
    "        #The accuracy of this prediction\n",
    "        accuracy[maxIt] = accuracy_score(y_pred,y_test)\n",
    "    return accuracy\n",
    "\n",
    "#Timer of training process\n",
    "time_start = time.time()\n",
    "\n",
    "accuracy = start(x_train, y_train)\n",
    "\n",
    "time_end = time.time()\n",
    "running_time = time_end-time_start\n",
    "print(f'finish training! total running time: {running_time}s')"
   ]
  },
  {
   "cell_type": "code",
   "execution_count": 24,
   "metadata": {},
   "outputs": [
    {
     "data": {
      "text/plain": [
       "[<matplotlib.lines.Line2D at 0x24028be5160>]"
      ]
     },
     "execution_count": 24,
     "metadata": {},
     "output_type": "execute_result"
    },
    {
     "data": {
      "image/png": "[encoded data removed]",
      "text/plain": [
       "<Figure size 432x288 with 1 Axes>"
      ]
     },
     "metadata": {
      "needs_background": "light"
     },
     "output_type": "display_data"
    }
   ],
   "source": [
    "#Paint the learing curve with accuracy vector against number of iterations\n",
    "plt.title('Learning curves of Stochastic logistic regression')\n",
    "plt.xlabel('Number of cycles')\n",
    "plt.ylabel('Accuracy')\n",
    "plt.plot(np.linspace(1,50000,50000),accuracy)"
   ]
  },
  {
   "cell_type": "code",
   "execution_count": null,
   "metadata": {},
   "outputs": [],
   "source": []
  }
 ],
 "metadata": {
  "kernelspec": {
   "display_name": "Python 3",
   "language": "python",
   "name": "python3"
  },
  "language_info": {
   "codemirror_mode": {
    "name": "ipython",
    "version": 3
   },
   "file_extension": ".py",
   "mimetype": "text/x-python",
   "name": "python",
   "nbconvert_exporter": "python",
   "pygments_lexer": "ipython3",
   "version": "3.6.12"
  }
 },
 "nbformat": 4,
 "nbformat_minor": 4
}
